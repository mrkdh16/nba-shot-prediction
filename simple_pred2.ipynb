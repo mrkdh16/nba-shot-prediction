{
 "cells": [
  {
   "cell_type": "code",
   "execution_count": 2,
   "metadata": {},
   "outputs": [],
   "source": [
    "import pandas as pd\n",
    "import numpy as np\n",
    "import matplotlib.pyplot as plt\n",
    "from matplotlib.patches import Circle, Rectangle, Arc\n",
    "import torch\n",
    "import torch.nn as nn\n",
    "import torch.nn.functional as F\n",
    "from torch.utils.data import Dataset,DataLoader\n",
    "import torch.optim as optim\n",
    "from tqdm import tqdm\n",
    "from sklearn.preprocessing import OneHotEncoder"
   ]
  },
  {
   "cell_type": "code",
   "execution_count": 3,
   "metadata": {},
   "outputs": [],
   "source": [
    "better_shots_df = pd.read_csv(\"data/shot_logs.csv\")"
   ]
  },
  {
   "cell_type": "code",
   "execution_count": 4,
   "metadata": {},
   "outputs": [],
   "source": [
    "class MakeDataset(Dataset):\n",
    "    def __init__(self, features, labels):\n",
    "        self.features = torch.tensor(features.values,dtype=torch.float32)\n",
    "        self.labels = torch.tensor(labels.values,dtype=torch.float32)\n",
    "        \n",
    "    def __len__(self):\n",
    "        return len(self.features)\n",
    "\n",
    "    def __getitem__(self, idx):\n",
    "        return self.features[idx], self.labels[idx]"
   ]
  },
  {
   "cell_type": "code",
   "execution_count": 14,
   "metadata": {},
   "outputs": [],
   "source": [
    "def shots_data_processing(df):\n",
    "    #select columns, label encoding\n",
    "    df_condensed = df[[\"LOCATION\",\"W\",\"FINAL_MARGIN\",\"SHOT_NUMBER\",\"PERIOD\",\"SHOT_CLOCK\",\"DRIBBLES\",\"TOUCH_TIME\",\"SHOT_DIST\",\"PTS_TYPE\",\"CLOSE_DEF_DIST\"]]\n",
    "    df_outcome = df[\"FGM\"]\n",
    "    df_condensed.loc[:,\"LOCATION\"] = df[\"LOCATION\"] == 'H'\n",
    "    df_condensed.loc[:,\"W\"] = df[\"W\"] == 'W'\n",
    "    df_condensed[[\"LOCATION\",\"W\"]] = df_condensed[[\"LOCATION\",\"W\"]].astype(int)\n",
    "\n",
    "    #scaling to [-1,1]\n",
    "    def scaling_func(x):\n",
    "        if not (x.max() == 1 and x.min() == 0):\n",
    "            return 2 * (x - x.min()) / (x.max() - x.min()) - 1\n",
    "        return x\n",
    "    df_condensed_scaled = df_condensed.apply(scaling_func).astype(\"float32\")\n",
    "\n",
    "    df_condensed_scaled = df_condensed_scaled.fillna(0)\n",
    "\n",
    "    return MakeDataset(df_condensed_scaled,df_outcome)"
   ]
  },
  {
   "cell_type": "code",
   "execution_count": 15,
   "metadata": {},
   "outputs": [
    {
     "name": "stderr",
     "output_type": "stream",
     "text": [
      "/var/folders/y0/sc7jmx7n2vs9kmrjt2zyfpk00000gn/T/ipykernel_33280/4107275900.py:7: SettingWithCopyWarning: \n",
      "A value is trying to be set on a copy of a slice from a DataFrame.\n",
      "Try using .loc[row_indexer,col_indexer] = value instead\n",
      "\n",
      "See the caveats in the documentation: https://pandas.pydata.org/pandas-docs/stable/user_guide/indexing.html#returning-a-view-versus-a-copy\n",
      "  df_condensed[[\"LOCATION\",\"W\"]] = df_condensed[[\"LOCATION\",\"W\"]].astype(int)\n",
      "/var/folders/y0/sc7jmx7n2vs9kmrjt2zyfpk00000gn/T/ipykernel_33280/4107275900.py:7: SettingWithCopyWarning: \n",
      "A value is trying to be set on a copy of a slice from a DataFrame.\n",
      "Try using .loc[row_indexer,col_indexer] = value instead\n",
      "\n",
      "See the caveats in the documentation: https://pandas.pydata.org/pandas-docs/stable/user_guide/indexing.html#returning-a-view-versus-a-copy\n",
      "  df_condensed[[\"LOCATION\",\"W\"]] = df_condensed[[\"LOCATION\",\"W\"]].astype(int)\n",
      "/var/folders/y0/sc7jmx7n2vs9kmrjt2zyfpk00000gn/T/ipykernel_33280/4107275900.py:7: SettingWithCopyWarning: \n",
      "A value is trying to be set on a copy of a slice from a DataFrame.\n",
      "Try using .loc[row_indexer,col_indexer] = value instead\n",
      "\n",
      "See the caveats in the documentation: https://pandas.pydata.org/pandas-docs/stable/user_guide/indexing.html#returning-a-view-versus-a-copy\n",
      "  df_condensed[[\"LOCATION\",\"W\"]] = df_condensed[[\"LOCATION\",\"W\"]].astype(int)\n"
     ]
    }
   ],
   "source": [
    "train_data = better_shots_df.sample(frac=0.9)\n",
    "dev_data = better_shots_df.drop(train_data.index).sample(frac=0.5)\n",
    "test_data = better_shots_df.drop(pd.concat([train_data,dev_data]).index)\n",
    "\n",
    "processed_train_data = shots_data_processing(train_data)\n",
    "processed_dev_data = shots_data_processing(dev_data)\n",
    "processed_test_data = shots_data_processing(test_data)\n",
    "\n",
    "batch_size = 32\n",
    "\n",
    "trainloader = DataLoader(processed_train_data,batch_size=batch_size,shuffle=False)\n",
    "devloader = DataLoader(processed_dev_data,batch_size=batch_size,shuffle=False)\n",
    "testloader = DataLoader(processed_test_data,batch_size=batch_size,shuffle=False)"
   ]
  },
  {
   "cell_type": "code",
   "execution_count": 16,
   "metadata": {},
   "outputs": [],
   "source": [
    "class Model(nn.Module):\n",
    "    def __init__(self,input_size,num_hidden_layers=50):\n",
    "        super(Model,self).__init__()\n",
    "        self.fc1 = nn.Linear(input_size,num_hidden_layers)\n",
    "        self.fc2 = nn.Linear(num_hidden_layers,1)\n",
    "        self.relu = nn.LeakyReLU(negative_slope=0.01, inplace=False)\n",
    "        self._initialize_weights()\n",
    "    def forward(self,x):\n",
    "        f1 = self.relu(self.fc1(x))\n",
    "        f2 = self.fc2(f1)\n",
    "        return f2\n",
    "    def _initialize_weights(self):\n",
    "        # Apply He initialization to all layers with ReLU/LeakyReLU activations\n",
    "        nn.init.kaiming_normal_(self.fc1.weight, mode='fan_in', nonlinearity='leaky_relu')\n",
    "        nn.init.kaiming_normal_(self.fc2.weight, mode='fan_in', nonlinearity='leaky_relu')\n",
    "\n",
    "        # Bias initialization (optional but recommended)\n",
    "        nn.init.zeros_(self.fc1.bias)\n",
    "        nn.init.zeros_(self.fc2.bias)"
   ]
  },
  {
   "cell_type": "code",
   "execution_count": 17,
   "metadata": {},
   "outputs": [],
   "source": [
    "model = Model(processed_train_data[0][0].shape[0],12)\n",
    "criterion = nn.BCEWithLogitsLoss()\n",
    "optimizer = optim.Adam(model.parameters(), lr=0.001)"
   ]
  },
  {
   "cell_type": "code",
   "execution_count": 18,
   "metadata": {},
   "outputs": [
    {
     "name": "stderr",
     "output_type": "stream",
     "text": [
      "3602it [00:01, 2882.39it/s]\n",
      "3602it [00:01, 2702.78it/s]\n",
      "3602it [00:01, 2907.75it/s]"
     ]
    },
    {
     "name": "stdout",
     "output_type": "stream",
     "text": [
      "Finished Training\n"
     ]
    },
    {
     "name": "stderr",
     "output_type": "stream",
     "text": [
      "\n"
     ]
    }
   ],
   "source": [
    "num_epochs = 3\n",
    "loss_values = []\n",
    "\n",
    "for epoch in range(num_epochs):  # loop over the dataset multiple times\n",
    "    running_loss = 0.0\n",
    "    for i, data in tqdm(enumerate(trainloader, 0)):\n",
    "        # get the inputs; data is a list of [inputs, labels]\n",
    "        inputs, labels = data\n",
    "        # zero the parameter gradients\n",
    "        optimizer.zero_grad()\n",
    "        # forward + backward + optimize\n",
    "        outputs = model(inputs)\n",
    "        loss = criterion(outputs.squeeze(-1), labels)\n",
    "        loss.backward()\n",
    "        optimizer.step()\n",
    "        running_loss += loss.item()\n",
    "        # print statistics\n",
    "        if i % 1000 == 999:    # print every n mini-batches\n",
    "            loss_values.append(running_loss/1000)\n",
    "            running_loss = 0.0\n",
    "\n",
    "print('Finished Training')"
   ]
  },
  {
   "cell_type": "code",
   "execution_count": 19,
   "metadata": {},
   "outputs": [
    {
     "data": {
      "image/png": "[encoded data removed]",
      "text/plain": [
       "<Figure size 640x480 with 1 Axes>"
      ]
     },
     "metadata": {},
     "output_type": "display_data"
    }
   ],
   "source": [
    "# Plotting the loss\n",
    "# plt.plot(range(1, num_epochs + 1), loss_values, marker='o', color='b')\n",
    "plt.plot(range(1, (len(trainloader)//1000)*num_epochs+1), loss_values, marker='o', color='b')\n",
    "plt.xlabel('Iterations')\n",
    "plt.ylabel('Loss')\n",
    "plt.title('Loss vs Iterations')\n",
    "plt.grid(True)\n",
    "plt.show()"
   ]
  },
  {
   "cell_type": "code",
   "execution_count": 20,
   "metadata": {},
   "outputs": [
    {
     "name": "stdout",
     "output_type": "stream",
     "text": [
      "0.5576202373516552\n"
     ]
    }
   ],
   "source": [
    "correct, total = 0, 0\n",
    "with torch.no_grad():\n",
    "    for data in devloader:\n",
    "        features, outcome = data\n",
    "        outputs = model(features)  # Raw logits\n",
    "        predicted = (outputs.squeeze(-1) > 0).int()  # Threshold logits at 0\n",
    "        total += outcome.size(0)\n",
    "        correct += (predicted == outcome).sum().item()\n",
    "    print(correct / total)  # Accuracy"
   ]
  },
  {
   "cell_type": "code",
   "execution_count": 21,
   "metadata": {},
   "outputs": [
    {
     "name": "stdout",
     "output_type": "stream",
     "text": [
      "0.5648914571294705\n"
     ]
    }
   ],
   "source": [
    "correct, total = 0, 0\n",
    "with torch.no_grad():\n",
    "    for data in testloader:\n",
    "        features, outcome = data\n",
    "        outputs = model(features)  # Raw logits\n",
    "        predicted = (outputs.squeeze(-1) > 0).int()  # Threshold logits at 0\n",
    "        total += outcome.size(0)\n",
    "        correct += (predicted == outcome).sum().item()\n",
    "    print(correct / total)  # Accuracy"
   ]
  },
  {
   "cell_type": "code",
   "execution_count": null,
   "metadata": {},
   "outputs": [],
   "source": []
  }
 ],
 "metadata": {
  "kernelspec": {
   "display_name": "nba-shot-prediction",
   "language": "python",
   "name": "python3"
  },
  "language_info": {
   "codemirror_mode": {
    "name": "ipython",
    "version": 3
   },
   "file_extension": ".py",
   "mimetype": "text/x-python",
   "name": "python",
   "nbconvert_exporter": "python",
   "pygments_lexer": "ipython3",
   "version": "3.11.1"
  }
 },
 "nbformat": 4,
 "nbformat_minor": 2
}
