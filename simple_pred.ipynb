{
 "cells": [
  {
   "cell_type": "code",
   "execution_count": 1,
   "metadata": {},
   "outputs": [],
   "source": [
    "import pandas as pd\n",
    "import numpy as np\n",
    "import matplotlib.pyplot as plt\n",
    "from matplotlib.patches import Circle, Rectangle, Arc\n",
    "import torch\n",
    "import torch.nn as nn\n",
    "import torch.nn.functional as F\n",
    "from torch.utils.data import Dataset,DataLoader\n",
    "import torch.optim as optim\n",
    "from tqdm import tqdm\n",
    "from sklearn.preprocessing import OneHotEncoder"
   ]
  },
  {
   "cell_type": "code",
   "execution_count": 2,
   "metadata": {},
   "outputs": [],
   "source": [
    "shots_df = pd.read_csv(\"data/NBA_2004_2024_Shots.csv\")"
   ]
  },
  {
   "cell_type": "code",
   "execution_count": 3,
   "metadata": {},
   "outputs": [],
   "source": [
    "def season_to_df(season):\n",
    "    return shots_df[shots_df['SEASON_1']==season]"
   ]
  },
  {
   "cell_type": "code",
   "execution_count": 4,
   "metadata": {},
   "outputs": [],
   "source": [
    "team_name_to_ABB = {\n",
    "    \"Atlanta Hawks\":\"ATL\",\n",
    "\t\"Boston Celtics\":\"BOS\",\n",
    "\t\"Brooklyn Nets\":\"BKN\",\n",
    "\t\"Charlotte Hornets\":\"CHA\",\n",
    "\t\"Chicago Bulls\":\"CHI\",\n",
    "\t\"Cleveland Cavaliers\":\"CLE\",\n",
    "\t\"Dallas Mavericks\":\"DAL\",\n",
    "\t\"Denver Nuggets\":\"DEN\",\n",
    "\t\"Detroit Pistons\":\"DET\",\n",
    "    \"Golden State Warriors\":\"GSW\",\n",
    "\t\"Houston Rockets\":\"HOU\",\n",
    "\t\"Indiana Pacers\":\"IND\",\n",
    "\t\"Los Angeles Clippers\":\"LAC\",\n",
    "\t\"Los Angeles Lakers\":\"LAL\",\n",
    "\t\"Memphis Grizzlies\":\"MEM\",\n",
    "\t\"Miami Heat\":\"MIA\",\n",
    "\t\"Milwaukee Bucks\":\"MIL\",\n",
    "\t\"Minnesota Timberwolves\":\"MIN\",\n",
    "    \"New Orleans Pelicans\":\"NOP\",\n",
    "    \"New York Knicks\":\"NYK\",\n",
    "\t\"Oklahoma City Thunder\":\"OKC\",\n",
    "\t\"Orlando Magic\":\"ORL\",\n",
    "\t\"Philadelphia 76ers\":\"PHI\",\n",
    "\t\"Phoenix Suns\":\"PHX\",\n",
    "\t\"Portland Trail Blazers\":\"PHX\",\n",
    "\t\"Sacramento Kings\":\"SAC\",\n",
    "    \"San Antonio Spurs\":\"SAS\",\n",
    "\t\"Toronto Raptors\":\"TOR\",\n",
    "    \"Utah Jazz\":\"UTA\",\n",
    "\t\"Washington Wizards\":\"WAS\"\n",
    "}"
   ]
  },
  {
   "cell_type": "code",
   "execution_count": 5,
   "metadata": {},
   "outputs": [],
   "source": [
    "class MakeDataset(Dataset):\n",
    "    def __init__(self, features, labels):\n",
    "        self.features = torch.tensor(features.values,dtype=torch.float32)\n",
    "        self.labels = torch.tensor(labels.values,dtype=torch.float32)\n",
    "        \n",
    "    def __len__(self):\n",
    "        return len(self.features)\n",
    "\n",
    "    def __getitem__(self, idx):\n",
    "        return self.features[idx], self.labels[idx]"
   ]
  },
  {
   "cell_type": "code",
   "execution_count": 6,
   "metadata": {},
   "outputs": [],
   "source": [
    "category_sizes = []\n",
    "label_to_one_hot = [\"ACTION_TYPE\",\"BASIC_ZONE\",\"ZONE_NAME\"]\n",
    "\n",
    "for categorical_var in label_to_one_hot:\n",
    "    category_sizes.append(range(shots_df[categorical_var].unique().shape[0]))"
   ]
  },
  {
   "cell_type": "code",
   "execution_count": 7,
   "metadata": {},
   "outputs": [],
   "source": [
    "def shots_data_processing(df):\n",
    "    #select columns, label encoding\n",
    "    df_condensed = df[[\"PLAYER_ID\",\"HOME_TEAM\",\"ACTION_TYPE\",\"SHOT_TYPE\",\"BASIC_ZONE\",\"ZONE_NAME\",\"LOC_X\",\"LOC_Y\",\"SHOT_DISTANCE\",\"QUARTER\"]]\n",
    "    df_outcome = df[\"SHOT_MADE\"]\n",
    "    df_condensed.loc[:,\"HOME_TEAM\"] = (df[\"TEAM_NAME\"].map(team_name_to_ABB)==df[\"HOME_TEAM\"])\n",
    "    df_condensed.loc[:,\"TIME_LEFT\"] = (df[\"MINS_LEFT\"]*60+df[\"SECS_LEFT\"])\n",
    "    df_condensed[\"HOME_TEAM\"] = df_condensed[\"HOME_TEAM\"].astype(int)\n",
    "    for category in df_condensed.keys():\n",
    "        if not (df_condensed[category].dtype in [int,float]):\n",
    "            tmp_dict = {k:i for i,k in enumerate(sorted(df[category].unique()))}\n",
    "            df_condensed.loc[:,category] = df_condensed[category].map(tmp_dict)\n",
    "\n",
    "    #label encoding -> one-hot encoding\n",
    "    encoder = OneHotEncoder(categories=category_sizes,sparse_output=False, dtype=\"float32\",handle_unknown='error')\n",
    "    one_hot_encoded = encoder.fit_transform(df_condensed[label_to_one_hot])\n",
    "    encoded_df = pd.DataFrame(\n",
    "        one_hot_encoded,\n",
    "        columns=encoder.get_feature_names_out(label_to_one_hot),\n",
    "        index=df.index\n",
    "    )\n",
    "    df_condensed = pd.concat([df_condensed.drop(columns=label_to_one_hot), encoded_df], axis=1)\n",
    "\n",
    "    #temp drop\n",
    "    df_condensed_drop = df_condensed.drop(columns=[\"PLAYER_ID\"])\n",
    "\n",
    "    #scaling to [-1,1]\n",
    "    def scaling_func(x):\n",
    "        if not (x.max() == 1 and x.min() == 0):\n",
    "            return 2 * (x - x.min()) / (x.max() - x.min()) - 1\n",
    "        return x\n",
    "    df_condensed_drop_scaled = df_condensed_drop.apply(scaling_func).astype(\"float32\")\n",
    "\n",
    "    df_condensed_drop_scaled = df_condensed_drop_scaled.fillna(0)\n",
    "\n",
    "    return MakeDataset(df_condensed_drop_scaled,df_outcome)"
   ]
  },
  {
   "cell_type": "code",
   "execution_count": 8,
   "metadata": {},
   "outputs": [
    {
     "name": "stderr",
     "output_type": "stream",
     "text": [
      "/var/folders/y0/sc7jmx7n2vs9kmrjt2zyfpk00000gn/T/ipykernel_81543/3195145373.py:6: SettingWithCopyWarning: \n",
      "A value is trying to be set on a copy of a slice from a DataFrame.\n",
      "Try using .loc[row_indexer,col_indexer] = value instead\n",
      "\n",
      "See the caveats in the documentation: https://pandas.pydata.org/pandas-docs/stable/user_guide/indexing.html#returning-a-view-versus-a-copy\n",
      "  df_condensed.loc[:,\"TIME_LEFT\"] = (df[\"MINS_LEFT\"]*60+df[\"SECS_LEFT\"])\n",
      "/var/folders/y0/sc7jmx7n2vs9kmrjt2zyfpk00000gn/T/ipykernel_81543/3195145373.py:7: SettingWithCopyWarning: \n",
      "A value is trying to be set on a copy of a slice from a DataFrame.\n",
      "Try using .loc[row_indexer,col_indexer] = value instead\n",
      "\n",
      "See the caveats in the documentation: https://pandas.pydata.org/pandas-docs/stable/user_guide/indexing.html#returning-a-view-versus-a-copy\n",
      "  df_condensed[\"HOME_TEAM\"] = df_condensed[\"HOME_TEAM\"].astype(int)\n",
      "/var/folders/y0/sc7jmx7n2vs9kmrjt2zyfpk00000gn/T/ipykernel_81543/3195145373.py:6: SettingWithCopyWarning: \n",
      "A value is trying to be set on a copy of a slice from a DataFrame.\n",
      "Try using .loc[row_indexer,col_indexer] = value instead\n",
      "\n",
      "See the caveats in the documentation: https://pandas.pydata.org/pandas-docs/stable/user_guide/indexing.html#returning-a-view-versus-a-copy\n",
      "  df_condensed.loc[:,\"TIME_LEFT\"] = (df[\"MINS_LEFT\"]*60+df[\"SECS_LEFT\"])\n",
      "/var/folders/y0/sc7jmx7n2vs9kmrjt2zyfpk00000gn/T/ipykernel_81543/3195145373.py:7: SettingWithCopyWarning: \n",
      "A value is trying to be set on a copy of a slice from a DataFrame.\n",
      "Try using .loc[row_indexer,col_indexer] = value instead\n",
      "\n",
      "See the caveats in the documentation: https://pandas.pydata.org/pandas-docs/stable/user_guide/indexing.html#returning-a-view-versus-a-copy\n",
      "  df_condensed[\"HOME_TEAM\"] = df_condensed[\"HOME_TEAM\"].astype(int)\n",
      "/var/folders/y0/sc7jmx7n2vs9kmrjt2zyfpk00000gn/T/ipykernel_81543/3195145373.py:6: SettingWithCopyWarning: \n",
      "A value is trying to be set on a copy of a slice from a DataFrame.\n",
      "Try using .loc[row_indexer,col_indexer] = value instead\n",
      "\n",
      "See the caveats in the documentation: https://pandas.pydata.org/pandas-docs/stable/user_guide/indexing.html#returning-a-view-versus-a-copy\n",
      "  df_condensed.loc[:,\"TIME_LEFT\"] = (df[\"MINS_LEFT\"]*60+df[\"SECS_LEFT\"])\n",
      "/var/folders/y0/sc7jmx7n2vs9kmrjt2zyfpk00000gn/T/ipykernel_81543/3195145373.py:7: SettingWithCopyWarning: \n",
      "A value is trying to be set on a copy of a slice from a DataFrame.\n",
      "Try using .loc[row_indexer,col_indexer] = value instead\n",
      "\n",
      "See the caveats in the documentation: https://pandas.pydata.org/pandas-docs/stable/user_guide/indexing.html#returning-a-view-versus-a-copy\n",
      "  df_condensed[\"HOME_TEAM\"] = df_condensed[\"HOME_TEAM\"].astype(int)\n"
     ]
    }
   ],
   "source": [
    "train_data = season_to_df(2024).sample(frac=0.9)\n",
    "dev_data = season_to_df(2024).drop(train_data.index).sample(frac=0.5)\n",
    "test_data = season_to_df(2024).drop(pd.concat([train_data,dev_data]).index)\n",
    "\n",
    "processed_train_data = shots_data_processing(train_data)\n",
    "processed_dev_data = shots_data_processing(dev_data)\n",
    "processed_test_data = shots_data_processing(test_data)\n",
    "\n",
    "batch_size = 32\n",
    "\n",
    "trainloader = DataLoader(processed_train_data,batch_size=batch_size,shuffle=False)\n",
    "devloader = DataLoader(processed_dev_data,batch_size=batch_size,shuffle=False)\n",
    "testloader = DataLoader(processed_test_data,batch_size=batch_size,shuffle=False)"
   ]
  },
  {
   "cell_type": "code",
   "execution_count": 9,
   "metadata": {},
   "outputs": [],
   "source": [
    "class Model(nn.Module):\n",
    "    def __init__(self,input_size):\n",
    "        super(Model,self).__init__()\n",
    "        self.fc1 = nn.Linear(input_size,1)\n",
    "    def forward(self,x):\n",
    "        f1 = self.fc1(x)\n",
    "        return f1"
   ]
  },
  {
   "cell_type": "code",
   "execution_count": 10,
   "metadata": {},
   "outputs": [],
   "source": [
    "model = Model(processed_train_data[0][0].shape[0])\n",
    "criterion = nn.BCEWithLogitsLoss()\n",
    "optimizer = optim.Adam(model.parameters(), lr=0.001)"
   ]
  },
  {
   "cell_type": "code",
   "execution_count": 11,
   "metadata": {},
   "outputs": [
    {
     "name": "stderr",
     "output_type": "stream",
     "text": [
      "100%|██████████| 1000/1000 [01:03<00:00, 15.78it/s]"
     ]
    },
    {
     "name": "stdout",
     "output_type": "stream",
     "text": [
      "0.4971356195701882 0.03427132522524834\n"
     ]
    },
    {
     "name": "stderr",
     "output_type": "stream",
     "text": [
      "\n"
     ]
    }
   ],
   "source": [
    "arr = []\n",
    "for i in tqdm(range(1000)):\n",
    "    correct, total = 0, 0\n",
    "    model = Model(processed_train_data[0][0].shape[0])\n",
    "    with torch.no_grad():\n",
    "        for data in devloader:\n",
    "            features, outcome = data\n",
    "            outputs = model(features)  # Raw logits\n",
    "            predicted = (outputs.squeeze(-1) > 0).int()  # Threshold logits at 0\n",
    "            total += outcome.size(0)\n",
    "            correct += (predicted == outcome).sum().item()\n",
    "        arr.append(correct / total)  # Accuracy\n",
    "print(sum(arr)/len(arr), np.std(arr, ddof=1))"
   ]
  },
  {
   "cell_type": "code",
   "execution_count": 12,
   "metadata": {},
   "outputs": [
    {
     "data": {
      "image/png": "[encoded data removed]",
      "text/plain": [
       "<Figure size 640x480 with 1 Axes>"
      ]
     },
     "metadata": {},
     "output_type": "display_data"
    }
   ],
   "source": [
    "plt.hist(arr, bins=20, edgecolor='black')  # bins=5 specifies 5 intervals\n",
    "plt.title(\"random guessing\")\n",
    "plt.xlabel(\"acc\")\n",
    "plt.ylabel(\"frequency\")\n",
    "plt.show()"
   ]
  },
  {
   "cell_type": "code",
   "execution_count": 11,
   "metadata": {},
   "outputs": [
    {
     "name": "stderr",
     "output_type": "stream",
     "text": [
      "6151it [00:03, 2042.26it/s]"
     ]
    },
    {
     "name": "stdout",
     "output_type": "stream",
     "text": [
      "Finished Training\n"
     ]
    },
    {
     "name": "stderr",
     "output_type": "stream",
     "text": [
      "\n"
     ]
    }
   ],
   "source": [
    "num_epochs = 1\n",
    "loss_values = []\n",
    "\n",
    "for epoch in range(num_epochs):  # loop over the dataset multiple times\n",
    "    running_loss = 0.0\n",
    "    for i, data in tqdm(enumerate(trainloader, 0)):\n",
    "        # get the inputs; data is a list of [inputs, labels]\n",
    "        inputs, labels = data\n",
    "        # zero the parameter gradients\n",
    "        optimizer.zero_grad()\n",
    "        # forward + backward + optimize\n",
    "        outputs = model(inputs)\n",
    "        loss = criterion(outputs.squeeze(-1), labels)\n",
    "        loss.backward()\n",
    "        optimizer.step()\n",
    "        running_loss += loss.item()\n",
    "        # print statistics\n",
    "        if i % 1000 == 999:    # print every n mini-batches\n",
    "            loss_values.append(running_loss/1000)\n",
    "            running_loss = 0.0\n",
    "\n",
    "print('Finished Training')"
   ]
  },
  {
   "cell_type": "code",
   "execution_count": 12,
   "metadata": {},
   "outputs": [
    {
     "data": {
      "image/png": "[encoded data removed]",
      "text/plain": [
       "<Figure size 640x480 with 1 Axes>"
      ]
     },
     "metadata": {},
     "output_type": "display_data"
    }
   ],
   "source": [
    "# Plotting the loss\n",
    "# plt.plot(range(1, num_epochs + 1), loss_values, marker='o', color='b')\n",
    "plt.plot(range(1, (len(trainloader)//1000)*num_epochs+1), loss_values, marker='o', color='b')\n",
    "plt.xlabel('Iterations')\n",
    "plt.ylabel('Loss')\n",
    "plt.title('Loss vs Iterations')\n",
    "plt.grid(True)\n",
    "plt.show()"
   ]
  },
  {
   "cell_type": "code",
   "execution_count": 13,
   "metadata": {},
   "outputs": [
    {
     "name": "stdout",
     "output_type": "stream",
     "text": [
      "0.6226794695930499\n"
     ]
    }
   ],
   "source": [
    "correct, total = 0, 0\n",
    "with torch.no_grad():\n",
    "    for data in devloader:\n",
    "        features, outcome = data\n",
    "        outputs = model(features)  # Raw logits\n",
    "        predicted = (outputs.squeeze(-1) > 0).int()  # Threshold logits at 0\n",
    "        total += outcome.size(0)\n",
    "        correct += (predicted == outcome).sum().item()\n",
    "    print(correct / total)  # Accuracy"
   ]
  },
  {
   "cell_type": "code",
   "execution_count": 14,
   "metadata": {},
   "outputs": [
    {
     "name": "stdout",
     "output_type": "stream",
     "text": [
      "0.6256058527663466\n"
     ]
    }
   ],
   "source": [
    "correct, total = 0, 0\n",
    "with torch.no_grad():\n",
    "    for data in testloader:\n",
    "        features, outcome = data\n",
    "        outputs = model(features)  # Raw logits\n",
    "        predicted = (outputs.squeeze(-1) > 0).int()  # Threshold logits at 0\n",
    "        total += outcome.size(0)\n",
    "        correct += (predicted == outcome).sum().item()\n",
    "    print(correct / total)  # Accuracy"
   ]
  },
  {
   "cell_type": "code",
   "execution_count": null,
   "metadata": {},
   "outputs": [],
   "source": []
  }
 ],
 "metadata": {
  "kernelspec": {
   "display_name": "nba-shot-prediction",
   "language": "python",
   "name": "python3"
  },
  "language_info": {
   "codemirror_mode": {
    "name": "ipython",
    "version": 3
   },
   "file_extension": ".py",
   "mimetype": "text/x-python",
   "name": "python",
   "nbconvert_exporter": "python",
   "pygments_lexer": "ipython3",
   "version": "3.11.1"
  }
 },
 "nbformat": 4,
 "nbformat_minor": 2
}
